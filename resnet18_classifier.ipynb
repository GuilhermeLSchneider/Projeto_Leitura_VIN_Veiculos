{
 "cells": [
  {
   "cell_type": "code",
   "execution_count": 5,
   "id": "69aeb45e",
   "metadata": {},
   "outputs": [],
   "source": [
    "import os\n",
    "import torch\n",
    "import torchvision.transforms as transforms\n",
    "from torchvision.datasets import ImageFolder\n",
    "from torch.utils.data import DataLoader\n",
    "import torch.nn as nn\n",
    "import torch.optim as optim\n",
    "from torchvision import models\n",
    "from sklearn.model_selection import train_test_split\n",
    "from torchvision.datasets.folder import default_loader\n",
    "from tqdm import tqdm"
   ]
  },
  {
   "cell_type": "code",
   "execution_count": 12,
   "id": "d95c798a",
   "metadata": {},
   "outputs": [
    {
     "name": "stdout",
     "output_type": "stream",
     "text": [
      "Número de classes: 33\n",
      "Classes: ['0', '1', '2', '3', '4', '5', '6', '7', '8', '9', 'A', 'B', 'C', 'D', 'E', 'F', 'G', 'H', 'J', 'K', 'L', 'M', 'N', 'P', 'R', 'S', 'T', 'U', 'V', 'W', 'X', 'Y', 'Z']\n"
     ]
    }
   ],
   "source": [
    "# Caminho do dataset\n",
    "DATASET_DIR = './vin_characters_crops_merged-dataset2'\n",
    "\n",
    "# Transformações\n",
    "transform = transforms.Compose([\n",
    "    transforms.Resize((64, 64)),\n",
    "    transforms.Grayscale(num_output_channels=3),  # necessário se for usar modelo pré-treinado\n",
    "    transforms.ToTensor(),\n",
    "    transforms.Normalize([0.5], [0.5])\n",
    "])\n",
    "\n",
    "# Dataset completo\n",
    "full_dataset = ImageFolder(root=DATASET_DIR, transform=transform)\n",
    "\n",
    "# Separar treino e validação\n",
    "train_idx, val_idx = train_test_split(list(range(len(full_dataset))), test_size=0.2, stratify=full_dataset.targets)\n",
    "\n",
    "train_dataset = torch.utils.data.Subset(full_dataset, train_idx)\n",
    "val_dataset = torch.utils.data.Subset(full_dataset, val_idx)\n",
    "\n",
    "train_loader = DataLoader(train_dataset, batch_size=64, shuffle=True)\n",
    "val_loader = DataLoader(val_dataset, batch_size=64, shuffle=False)\n",
    "\n",
    "print(f\"Número de classes: {len(full_dataset.classes)}\")\n",
    "print(f\"Classes: {full_dataset.classes}\")\n"
   ]
  },
  {
   "cell_type": "code",
   "execution_count": 7,
   "id": "8bab38e6",
   "metadata": {},
   "outputs": [
    {
     "name": "stderr",
     "output_type": "stream",
     "text": [
      "C:\\Users\\guilh\\AppData\\Local\\Packages\\PythonSoftwareFoundation.Python.3.12_qbz5n2kfra8p0\\LocalCache\\local-packages\\Python312\\site-packages\\torchvision\\models\\_utils.py:208: UserWarning: The parameter 'pretrained' is deprecated since 0.13 and may be removed in the future, please use 'weights' instead.\n",
      "  warnings.warn(\n",
      "C:\\Users\\guilh\\AppData\\Local\\Packages\\PythonSoftwareFoundation.Python.3.12_qbz5n2kfra8p0\\LocalCache\\local-packages\\Python312\\site-packages\\torchvision\\models\\_utils.py:223: UserWarning: Arguments other than a weight enum or `None` for 'weights' are deprecated since 0.13 and may be removed in the future. The current behavior is equivalent to passing `weights=ResNet18_Weights.IMAGENET1K_V1`. You can also use `weights=ResNet18_Weights.DEFAULT` to get the most up-to-date weights.\n",
      "  warnings.warn(msg)\n"
     ]
    },
    {
     "data": {
      "text/plain": [
       "<All keys matched successfully>"
      ]
     },
     "execution_count": 7,
     "metadata": {},
     "output_type": "execute_result"
    }
   ],
   "source": [
    "import torch.nn as nn\n",
    "# Carregando o modelo RESNET18 salvo \n",
    "model = models.resnet18(pretrained=True)\n",
    "num_ftrs = model.fc.in_features\n",
    "model.fc = nn.Linear(num_ftrs, len(full_dataset.classes))  # Ajustar a camada final para o número de classes\n",
    "# Carregar pesos do modelo salvo\n",
    "model.load_state_dict(torch.load('vin_char_classifier+augmentation_2.pth', map_location=torch.device('cpu')))"
   ]
  },
  {
   "cell_type": "code",
   "execution_count": 9,
   "id": "331db845",
   "metadata": {},
   "outputs": [
    {
     "data": {
      "text/plain": [
       "True"
      ]
     },
     "execution_count": 9,
     "metadata": {},
     "output_type": "execute_result"
    }
   ],
   "source": [
    "import torch\n",
    "torch.cuda.is_available()"
   ]
  },
  {
   "cell_type": "code",
   "execution_count": 8,
   "id": "c5fcb188",
   "metadata": {},
   "outputs": [
    {
     "data": {
      "text/plain": [
       "tensor([0.], device='cuda:0')"
      ]
     },
     "execution_count": 8,
     "metadata": {},
     "output_type": "execute_result"
    }
   ],
   "source": [
    "import torch\n",
    "torch.zeros(1).cuda()"
   ]
  },
  {
   "cell_type": "code",
   "execution_count": 3,
   "id": "b3dff923",
   "metadata": {},
   "outputs": [
    {
     "name": "stderr",
     "output_type": "stream",
     "text": [
      "C:\\Users\\guilh\\AppData\\Local\\Packages\\PythonSoftwareFoundation.Python.3.11_qbz5n2kfra8p0\\LocalCache\\local-packages\\Python311\\site-packages\\torchvision\\models\\_utils.py:208: UserWarning: The parameter 'pretrained' is deprecated since 0.13 and may be removed in the future, please use 'weights' instead.\n",
      "  warnings.warn(\n",
      "C:\\Users\\guilh\\AppData\\Local\\Packages\\PythonSoftwareFoundation.Python.3.11_qbz5n2kfra8p0\\LocalCache\\local-packages\\Python311\\site-packages\\torchvision\\models\\_utils.py:223: UserWarning: Arguments other than a weight enum or `None` for 'weights' are deprecated since 0.13 and may be removed in the future. The current behavior is equivalent to passing `weights=ResNet18_Weights.IMAGENET1K_V1`. You can also use `weights=ResNet18_Weights.DEFAULT` to get the most up-to-date weights.\n",
      "  warnings.warn(msg)\n",
      "Epoch 1/10: 100%|██████████| 475/475 [05:56<00:00,  1.33it/s]\n"
     ]
    },
    {
     "name": "stdout",
     "output_type": "stream",
     "text": [
      "[Epoch 1] Loss: 1.0337\n"
     ]
    },
    {
     "name": "stderr",
     "output_type": "stream",
     "text": [
      "Epoch 2/10: 100%|██████████| 475/475 [05:17<00:00,  1.50it/s]\n"
     ]
    },
    {
     "name": "stdout",
     "output_type": "stream",
     "text": [
      "[Epoch 2] Loss: 0.3048\n"
     ]
    },
    {
     "name": "stderr",
     "output_type": "stream",
     "text": [
      "Epoch 3/10: 100%|██████████| 475/475 [05:03<00:00,  1.56it/s]\n"
     ]
    },
    {
     "name": "stdout",
     "output_type": "stream",
     "text": [
      "[Epoch 3] Loss: 0.1606\n"
     ]
    },
    {
     "name": "stderr",
     "output_type": "stream",
     "text": [
      "Epoch 4/10: 100%|██████████| 475/475 [04:59<00:00,  1.58it/s]\n"
     ]
    },
    {
     "name": "stdout",
     "output_type": "stream",
     "text": [
      "[Epoch 4] Loss: 0.0902\n"
     ]
    },
    {
     "name": "stderr",
     "output_type": "stream",
     "text": [
      "Epoch 5/10: 100%|██████████| 475/475 [05:03<00:00,  1.56it/s]\n"
     ]
    },
    {
     "name": "stdout",
     "output_type": "stream",
     "text": [
      "[Epoch 5] Loss: 0.0601\n"
     ]
    },
    {
     "name": "stderr",
     "output_type": "stream",
     "text": [
      "Epoch 6/10: 100%|██████████| 475/475 [04:59<00:00,  1.59it/s]\n"
     ]
    },
    {
     "name": "stdout",
     "output_type": "stream",
     "text": [
      "[Epoch 6] Loss: 0.0508\n"
     ]
    },
    {
     "name": "stderr",
     "output_type": "stream",
     "text": [
      "Epoch 7/10: 100%|██████████| 475/475 [04:59<00:00,  1.59it/s]\n"
     ]
    },
    {
     "name": "stdout",
     "output_type": "stream",
     "text": [
      "[Epoch 7] Loss: 0.0550\n"
     ]
    },
    {
     "name": "stderr",
     "output_type": "stream",
     "text": [
      "Epoch 8/10: 100%|██████████| 475/475 [05:18<00:00,  1.49it/s]\n"
     ]
    },
    {
     "name": "stdout",
     "output_type": "stream",
     "text": [
      "[Epoch 8] Loss: 0.0351\n"
     ]
    },
    {
     "name": "stderr",
     "output_type": "stream",
     "text": [
      "Epoch 9/10: 100%|██████████| 475/475 [05:26<00:00,  1.45it/s]\n"
     ]
    },
    {
     "name": "stdout",
     "output_type": "stream",
     "text": [
      "[Epoch 9] Loss: 0.0250\n"
     ]
    },
    {
     "name": "stderr",
     "output_type": "stream",
     "text": [
      "Epoch 10/10: 100%|██████████| 475/475 [05:18<00:00,  1.49it/s]"
     ]
    },
    {
     "name": "stdout",
     "output_type": "stream",
     "text": [
      "[Epoch 10] Loss: 0.0526\n"
     ]
    },
    {
     "name": "stderr",
     "output_type": "stream",
     "text": [
      "\n"
     ]
    }
   ],
   "source": [
    "device = torch.device(\"cuda\" if torch.cuda.is_available() else \"cpu\")\n",
    "\n",
    "model = models.resnet18(pretrained=True)\n",
    "model.fc = nn.Linear(model.fc.in_features, len(full_dataset.classes))\n",
    "model.to(device)\n",
    "criterion = nn.CrossEntropyLoss()\n",
    "optimizer = optim.Adam(model.parameters(), lr=1e-4)\n",
    "\n",
    "EPOCHS = 10\n",
    "\n",
    "for epoch in range(EPOCHS):\n",
    "    model.train()\n",
    "    train_loss = 0\n",
    "\n",
    "    for imgs, labels in tqdm(train_loader, desc=f\"Epoch {epoch+1}/{EPOCHS}\"):\n",
    "        imgs, labels = imgs.to(device), labels.to(device)\n",
    "\n",
    "        optimizer.zero_grad()\n",
    "        outputs = model(imgs)\n",
    "        loss = criterion(outputs, labels)\n",
    "        loss.backward()\n",
    "        optimizer.step()\n",
    "\n",
    "        train_loss += loss.item()\n",
    "\n",
    "    print(f\"[Epoch {epoch+1}] Loss: {train_loss / len(train_loader):.4f}\")"
   ]
  },
  {
   "cell_type": "code",
   "execution_count": 8,
   "id": "919666fa",
   "metadata": {},
   "outputs": [
    {
     "name": "stdout",
     "output_type": "stream",
     "text": [
      "🔍 Precisão (macro) na validação: 0.9777\n"
     ]
    }
   ],
   "source": [
    "from sklearn.metrics import precision_score\n",
    "\n",
    "device = torch.device(\"cuda\" if torch.cuda.is_available() else \"cpu\")\n",
    "\n",
    "# Ensure model is on the correct device\n",
    "model.to(device)\n",
    "model.eval()\n",
    "all_preds = []\n",
    "all_labels = []\n",
    "\n",
    "with torch.no_grad():\n",
    "    for imgs, labels in val_loader:\n",
    "        imgs, labels = imgs.to(device), labels.to(device)\n",
    "        outputs = model(imgs)\n",
    "        _, preds = torch.max(outputs, 1)\n",
    "        all_preds.extend(preds.cpu().numpy())\n",
    "        all_labels.extend(labels.cpu().numpy())\n",
    "\n",
    "precision = precision_score(all_labels, all_preds, average='macro')\n",
    "print(f\"🔍 Precisão (macro) na validação: {precision:.4f}\")\n",
    "\n",
    "torch.save(model.state_dict(), 'vin_char_classifier+augmentation_2.pth')"
   ]
  },
  {
   "cell_type": "code",
   "execution_count": 11,
   "id": "4fb5b146",
   "metadata": {},
   "outputs": [
    {
     "name": "stdout",
     "output_type": "stream",
     "text": [
      "Imagem testada: ./vin_characters_crops_merged-dataset2/0/Tugas-Akhir-2_D-4160-UAG-nomor-rangka_jpg.rf.3c52ba8ec7033c455da93a4cdaaa2728_5.jpg\n",
      "A classe prevista para a imagem é: 0\n"
     ]
    }
   ],
   "source": [
    "# Teste com uma imagem específica\n",
    "test_image_path = './vin_characters_crops_merged-dataset2/0/Tugas-Akhir-2_D-4160-UAG-nomor-rangka_jpg.rf.3c52ba8ec7033c455da93a4cdaaa2728_5.jpg'\n",
    "def predict_image(image_path, model, transform):\n",
    "    model.eval()\n",
    "    image = default_loader(image_path)\n",
    "    image = transform(image).unsqueeze(0)  # Adicionar dimensão de batch\n",
    "    image = image.to(device)\n",
    "\n",
    "    with torch.no_grad():\n",
    "        output = model(image)\n",
    "        _, predicted = torch.max(output, 1)\n",
    "    \n",
    "    return predicted.item()\n",
    "predicted_class = predict_image(test_image_path, model, transform)\n",
    "print(f\"Imagem testada: {test_image_path}\")\n",
    "print(f\"A classe prevista para a imagem é: {full_dataset.classes[predicted_class]}\")"
   ]
  },
  {
   "cell_type": "code",
   "execution_count": 12,
   "id": "e0b89c0a",
   "metadata": {},
   "outputs": [
    {
     "data": {
      "image/png": "[encoded data removed]",
      "text/plain": [
       "<Figure size 1000x800 with 2 Axes>"
      ]
     },
     "metadata": {},
     "output_type": "display_data"
    }
   ],
   "source": [
    "# Gerando a matriz de confusão\n",
    "import numpy as np\n",
    "from sklearn.metrics import confusion_matrix\n",
    "import seaborn as sns\n",
    "import matplotlib.pyplot as plt\n",
    "def plot_confusion_matrix(y_true, y_pred, classes):\n",
    "    cm = confusion_matrix(y_true, y_pred)\n",
    "    plt.figure(figsize=(10, 8))\n",
    "    sns.heatmap(cm, annot=True, fmt='d', cmap='Blues', xticklabels=classes, yticklabels=classes)\n",
    "    plt.xlabel('Predicted')\n",
    "    plt.ylabel('True')\n",
    "    plt.title('Confusion Matrix')\n",
    "    plt.show()\n",
    "# Plotando a matriz de confusão\n",
    "plot_confusion_matrix(all_labels, all_preds, full_dataset.classes)"
   ]
  },
  {
   "cell_type": "markdown",
   "id": "eecd5970",
   "metadata": {},
   "source": [
    "# DETECÇÃO DE DESBALANCEAMENTOS"
   ]
  },
  {
   "cell_type": "code",
   "execution_count": null,
   "id": "6a75179a",
   "metadata": {},
   "outputs": [
    {
     "name": "stdout",
     "output_type": "stream",
     "text": [
      "Counter({'1': 4358, '0': 2904, '2': 2235, '3': 2228, 'M': 1786, '5': 1762, '4': 1707, 'H': 1694, '8': 1593, 'J': 1568, 'K': 1499, '6': 1418, '9': 1370, '7': 1275, 'F': 929, 'E': 797, 'G': 725, 'B': 575, 'A': 500, 'C': 500, 'D': 500, 'I': 500, 'L': 500, 'N': 500, 'P': 500, 'R': 500, 'S': 500, 'T': 500, 'U': 500, 'V': 500, 'W': 500, 'X': 500, 'Y': 500, 'Z': 500})\n"
     ]
    }
   ],
   "source": [
    "import os\n",
    "from collections import Counter\n",
    "\n",
    "def count_images_per_class(base_dir):\n",
    "    counter = Counter()\n",
    "    for class_name in os.listdir(base_dir):\n",
    "        class_path = os.path.join(base_dir, class_name)\n",
    "        if os.path.isdir(class_path):\n",
    "            images = [f for f in os.listdir(class_path) if f.lower().endswith(('.jpg', '.jpeg', '.png'))]\n",
    "            counter[class_name] = len(images)\n",
    "    return counter\n",
    "\n",
    "# Exemplo: caminho para os crops de caracteres\n",
    "counts = count_images_per_class(\"vin_characters_crops_merged-dataset2\")\n",
    "print(counts)"
   ]
  },
  {
   "cell_type": "code",
   "execution_count": null,
   "id": "308bd96a",
   "metadata": {},
   "outputs": [],
   "source": [
    "import os\n",
    "import cv2\n",
    "import albumentations as A\n",
    "from collections import defaultdict\n",
    "from tqdm import tqdm\n",
    "\n",
    "# Aumentar até este número de imagens por classe\n",
    "TARGET_COUNT = 1000\n",
    "\n",
    "# Diretório da base de dados\n",
    "DATASET_DIR = \"vin_characters_crops_merged-dataset2/\"\n",
    "\n",
    "# Augmentations para VIN OCR\n",
    "augment = A.Compose([\n",
    "    A.Rotate(limit=5, p=0.7),\n",
    "    A.RandomBrightnessContrast(p=0.7),\n",
    "    A.GaussNoise(var_limit=(10.0, 50.0), p=0.5),\n",
    "    A.Perspective(scale=(0.02, 0.05), p=0.5),\n",
    "    A.MotionBlur(p=0.3)\n",
    "])\n",
    "\n",
    "def augment_class(class_dir, current_count):\n",
    "    files = [f for f in os.listdir(class_dir) if f.endswith(\".jpg\")]\n",
    "    needed = TARGET_COUNT - current_count\n",
    "    print(f\"Classe '{os.path.basename(class_dir)}' precisa de {needed} imagens\")\n",
    "\n",
    "    for i in tqdm(range(needed), desc=f\"Augmentando classe {os.path.basename(class_dir)}\"):\n",
    "        img_name = files[i % len(files)]\n",
    "        img_path = os.path.join(class_dir, img_name)\n",
    "        image = cv2.imread(img_path)\n",
    "\n",
    "        if image is None:\n",
    "            continue\n",
    "\n",
    "        aug_image = augment(image=image)['image']\n",
    "        out_name = f\"{os.path.splitext(img_name)[0]}_aug_{i}.jpg\"\n",
    "        out_path = os.path.join(class_dir, out_name)\n",
    "        cv2.imwrite(out_path, aug_image)\n",
    "\n",
    "def main():\n",
    "    for class_id in os.listdir(DATASET_DIR):\n",
    "        class_path = os.path.join(DATASET_DIR, class_id)\n",
    "        if not os.path.isdir(class_path):\n",
    "            continue\n",
    "        images = [f for f in os.listdir(class_path) if f.endswith('.jpg')]\n",
    "        count = len(images)\n",
    "        if count < TARGET_COUNT:\n",
    "            augment_class(class_path, count)\n",
    "\n",
    "if __name__ == \"__main__\":\n",
    "    main()"
   ]
  },
  {
   "cell_type": "code",
   "execution_count": null,
   "id": "224a31d3",
   "metadata": {},
   "outputs": [],
   "source": [
    "import torch\n",
    "import torch.nn as nn\n",
    "from torchvision import datasets, transforms, models\n",
    "from sklearn.metrics import classification_report, confusion_matrix\n",
    "import matplotlib.pyplot as plt\n",
    "import seaborn as sns\n",
    "import numpy as np\n",
    "import os\n",
    "\n",
    "# --- CONFIGURAÇÕES ---\n",
    "MODEL_PATH = \"vin_char_classifier+augmentation_2.pth\"  # seu modelo salvo\n",
    "DATASET_PATH = \"./vin_characters_crops_merged-dataset2/test\"  # pasta de teste\n",
    "BATCH_SIZE = 32\n",
    "DEVICE = torch.device(\"cuda\" if torch.cuda.is_available() else \"cpu\")\n",
    "\n",
    "# --- TRANSFORMAÇÕES ---\n",
    "transform = transforms.Compose([\n",
    "    transforms.Resize((64, 64)),\n",
    "    transforms.Grayscale(num_output_channels=3),\n",
    "    transforms.ToTensor(),\n",
    "    transforms.Normalize([0.5], [0.5])\n",
    "])\n",
    "\n",
    "# --- DATASET E DATALOADER ---\n",
    "test_dataset = datasets.ImageFolder(DATASET_PATH, transform=transform)\n",
    "test_loader = torch.utils.data.DataLoader(test_dataset, batch_size=BATCH_SIZE, shuffle=False)\n",
    "class_names = test_dataset.classes\n",
    "num_classes = len(class_names)\n",
    "\n",
    "# --- MODELO ---\n",
    "model = models.resnet18(pretrained=False)\n",
    "model.fc = nn.Linear(model.fc.in_features, num_classes)\n",
    "model.load_state_dict(torch.load(MODEL_PATH, map_location=DEVICE))\n",
    "model.to(DEVICE)\n",
    "model.eval()\n",
    "\n",
    "# --- AVALIAÇÃO ---\n",
    "all_labels = []\n",
    "all_preds = []\n",
    "\n",
    "with torch.no_grad():\n",
    "    for images, labels in test_loader:\n",
    "        images, labels = images.to(DEVICE), labels.to(DEVICE)\n",
    "        outputs = model(images)\n",
    "        _, preds = torch.max(outputs, 1)\n",
    "        all_labels.extend(labels.cpu().numpy())\n",
    "        all_preds.extend(preds.cpu().numpy())\n",
    "\n",
    "# --- MÉTRICAS ---\n",
    "print(\"\\n=== RELATÓRIO DE CLASSIFICAÇÃO ===\")\n",
    "print(classification_report(all_labels, all_preds, target_names=class_names, digits=4))\n",
    "\n",
    "# --- MATRIZ DE CONFUSÃO ---\n",
    "cm = confusion_matrix(all_labels, all_preds)\n",
    "plt.figure(figsize=(12, 10))\n",
    "sns.heatmap(cm, annot=False, cmap=\"Blues\", xticklabels=class_names, yticklabels=class_names)\n",
    "plt.title(\"Matriz de Confusão - ResNet18 (Classificação de Caracteres VIN)\")\n",
    "plt.xlabel(\"Predito\")\n",
    "plt.ylabel(\"Verdadeiro\")\n",
    "plt.tight_layout()\n",
    "plt.show()\n",
    "\n",
    "# --- MÉTRICAS AGREGADAS ---\n",
    "acc = np.mean(np.array(all_labels) == np.array(all_preds))\n",
    "print(f\"\\nAcurácia geral: {acc * 100:.2f}%\")\n"
   ]
  }
 ],
 "metadata": {
  "kernelspec": {
   "display_name": "Python 3",
   "language": "python",
   "name": "python3"
  },
  "language_info": {
   "codemirror_mode": {
    "name": "ipython",
    "version": 3
   },
   "file_extension": ".py",
   "mimetype": "text/x-python",
   "name": "python",
   "nbconvert_exporter": "python",
   "pygments_lexer": "ipython3",
   "version": "3.12.10"
  }
 },
 "nbformat": 4,
 "nbformat_minor": 5
}
